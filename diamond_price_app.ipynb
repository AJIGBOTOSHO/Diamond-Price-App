{
 "cells": [
  {
   "cell_type": "markdown",
   "id": "d48e6646",
   "metadata": {},
   "source": [
    "# Import necessary libraries"
   ]
  },
  {
   "cell_type": "code",
   "execution_count": 9,
   "id": "12631cda",
   "metadata": {},
   "outputs": [],
   "source": [
    "import numpy as np \n",
    "import pandas as pd \n",
    "import matplotlib.pyplot as plt \n",
    "import seaborn as sns "
   ]
  },
  {
   "cell_type": "code",
   "execution_count": 8,
   "id": "5bb40b52",
   "metadata": {},
   "outputs": [
    {
     "data": {
      "text/html": [
       "<div>\n",
       "<style scoped>\n",
       "    .dataframe tbody tr th:only-of-type {\n",
       "        vertical-align: middle;\n",
       "    }\n",
       "\n",
       "    .dataframe tbody tr th {\n",
       "        vertical-align: top;\n",
       "    }\n",
       "\n",
       "    .dataframe thead th {\n",
       "        text-align: right;\n",
       "    }\n",
       "</style>\n",
       "<table border=\"1\" class=\"dataframe\">\n",
       "  <thead>\n",
       "    <tr style=\"text-align: right;\">\n",
       "      <th></th>\n",
       "      <th>carat</th>\n",
       "      <th>cut</th>\n",
       "      <th>color</th>\n",
       "      <th>clarity</th>\n",
       "      <th>depth</th>\n",
       "      <th>table</th>\n",
       "      <th>price</th>\n",
       "      <th>x</th>\n",
       "      <th>y</th>\n",
       "      <th>z</th>\n",
       "    </tr>\n",
       "  </thead>\n",
       "  <tbody>\n",
       "    <tr>\n",
       "      <th>0</th>\n",
       "      <td>0.23</td>\n",
       "      <td>Ideal</td>\n",
       "      <td>E</td>\n",
       "      <td>SI2</td>\n",
       "      <td>61.5</td>\n",
       "      <td>55.0</td>\n",
       "      <td>326</td>\n",
       "      <td>3.95</td>\n",
       "      <td>3.98</td>\n",
       "      <td>2.43</td>\n",
       "    </tr>\n",
       "    <tr>\n",
       "      <th>1</th>\n",
       "      <td>0.21</td>\n",
       "      <td>Premium</td>\n",
       "      <td>E</td>\n",
       "      <td>SI1</td>\n",
       "      <td>59.8</td>\n",
       "      <td>61.0</td>\n",
       "      <td>326</td>\n",
       "      <td>3.89</td>\n",
       "      <td>3.84</td>\n",
       "      <td>2.31</td>\n",
       "    </tr>\n",
       "    <tr>\n",
       "      <th>2</th>\n",
       "      <td>0.23</td>\n",
       "      <td>Good</td>\n",
       "      <td>E</td>\n",
       "      <td>VS1</td>\n",
       "      <td>56.9</td>\n",
       "      <td>65.0</td>\n",
       "      <td>327</td>\n",
       "      <td>4.05</td>\n",
       "      <td>4.07</td>\n",
       "      <td>2.31</td>\n",
       "    </tr>\n",
       "    <tr>\n",
       "      <th>3</th>\n",
       "      <td>0.29</td>\n",
       "      <td>Premium</td>\n",
       "      <td>I</td>\n",
       "      <td>VS2</td>\n",
       "      <td>62.4</td>\n",
       "      <td>58.0</td>\n",
       "      <td>334</td>\n",
       "      <td>4.20</td>\n",
       "      <td>4.23</td>\n",
       "      <td>2.63</td>\n",
       "    </tr>\n",
       "    <tr>\n",
       "      <th>4</th>\n",
       "      <td>0.31</td>\n",
       "      <td>Good</td>\n",
       "      <td>J</td>\n",
       "      <td>SI2</td>\n",
       "      <td>63.3</td>\n",
       "      <td>58.0</td>\n",
       "      <td>335</td>\n",
       "      <td>4.34</td>\n",
       "      <td>4.35</td>\n",
       "      <td>2.75</td>\n",
       "    </tr>\n",
       "  </tbody>\n",
       "</table>\n",
       "</div>"
      ],
      "text/plain": [
       "   carat      cut color clarity  depth  table  price     x     y     z\n",
       "0   0.23    Ideal     E     SI2   61.5   55.0    326  3.95  3.98  2.43\n",
       "1   0.21  Premium     E     SI1   59.8   61.0    326  3.89  3.84  2.31\n",
       "2   0.23     Good     E     VS1   56.9   65.0    327  4.05  4.07  2.31\n",
       "3   0.29  Premium     I     VS2   62.4   58.0    334  4.20  4.23  2.63\n",
       "4   0.31     Good     J     SI2   63.3   58.0    335  4.34  4.35  2.75"
      ]
     },
     "execution_count": 8,
     "metadata": {},
     "output_type": "execute_result"
    }
   ],
   "source": [
    "import requests\n",
    "from io import StringIO\n",
    "def read_gd(sharingurl):\n",
    "    file_id = sharingurl.split('/')[-2]\n",
    "    download_url='https://drive.google.com/uc?export=download&id=' + file_id\n",
    "    url = requests.get(download_url).text\n",
    "    csv_raw = StringIO(url)\n",
    "    return csv_raw \n",
    "\n",
    "url = \"https://drive.google.com/file/d/1rAYtC4NcMVKzQdevoyeTr3T0pNKicmlP/view?usp=sharing\"\n",
    "gdd = read_gd(url)\n",
    "\n",
    "df = pd.read_csv(gdd)\n",
    "\n",
    "\n",
    "df.head()"
   ]
  },
  {
   "cell_type": "markdown",
   "id": "06fc2209",
   "metadata": {},
   "source": [
    "## Step 2 - Exploratory Data Analysis"
   ]
  },
  {
   "cell_type": "code",
   "execution_count": 10,
   "id": "91f91699",
   "metadata": {},
   "outputs": [
    {
     "data": {
      "text/plain": [
       "Index(['carat', 'cut', 'color', 'clarity', 'depth', 'table', 'price', 'x', 'y',\n",
       "       'z'],\n",
       "      dtype='object')"
      ]
     },
     "execution_count": 10,
     "metadata": {},
     "output_type": "execute_result"
    }
   ],
   "source": [
    "df.columns"
   ]
  },
  {
   "cell_type": "code",
   "execution_count": 11,
   "id": "139e29dc",
   "metadata": {},
   "outputs": [
    {
     "name": "stdout",
     "output_type": "stream",
     "text": [
      "<class 'pandas.core.frame.DataFrame'>\n",
      "RangeIndex: 53940 entries, 0 to 53939\n",
      "Data columns (total 10 columns):\n",
      " #   Column   Non-Null Count  Dtype  \n",
      "---  ------   --------------  -----  \n",
      " 0   carat    53940 non-null  float64\n",
      " 1   cut      53940 non-null  object \n",
      " 2   color    53940 non-null  object \n",
      " 3   clarity  53940 non-null  object \n",
      " 4   depth    53940 non-null  float64\n",
      " 5   table    53940 non-null  float64\n",
      " 6   price    53940 non-null  int64  \n",
      " 7   x        53940 non-null  float64\n",
      " 8   y        53940 non-null  float64\n",
      " 9   z        53940 non-null  float64\n",
      "dtypes: float64(6), int64(1), object(3)\n",
      "memory usage: 4.1+ MB\n"
     ]
    }
   ],
   "source": [
    "df.info()"
   ]
  },
  {
   "cell_type": "code",
   "execution_count": 13,
   "id": "47b4b446",
   "metadata": {},
   "outputs": [
    {
     "data": {
      "text/plain": [
       "carat      float64\n",
       "cut         object\n",
       "color       object\n",
       "clarity     object\n",
       "depth      float64\n",
       "table      float64\n",
       "price        int64\n",
       "x          float64\n",
       "y          float64\n",
       "z          float64\n",
       "dtype: object"
      ]
     },
     "execution_count": 13,
     "metadata": {},
     "output_type": "execute_result"
    }
   ],
   "source": [
    "d = df.dtypes\n",
    "d"
   ]
  },
  {
   "cell_type": "code",
   "execution_count": 14,
   "id": "f51f041b",
   "metadata": {},
   "outputs": [
    {
     "data": {
      "text/html": [
       "<div>\n",
       "<style scoped>\n",
       "    .dataframe tbody tr th:only-of-type {\n",
       "        vertical-align: middle;\n",
       "    }\n",
       "\n",
       "    .dataframe tbody tr th {\n",
       "        vertical-align: top;\n",
       "    }\n",
       "\n",
       "    .dataframe thead th {\n",
       "        text-align: right;\n",
       "    }\n",
       "</style>\n",
       "<table border=\"1\" class=\"dataframe\">\n",
       "  <thead>\n",
       "    <tr style=\"text-align: right;\">\n",
       "      <th></th>\n",
       "      <th>carat</th>\n",
       "      <th>depth</th>\n",
       "      <th>table</th>\n",
       "      <th>price</th>\n",
       "      <th>x</th>\n",
       "      <th>y</th>\n",
       "      <th>z</th>\n",
       "    </tr>\n",
       "  </thead>\n",
       "  <tbody>\n",
       "    <tr>\n",
       "      <th>count</th>\n",
       "      <td>53940.000000</td>\n",
       "      <td>53940.000000</td>\n",
       "      <td>53940.000000</td>\n",
       "      <td>53940.000000</td>\n",
       "      <td>53940.000000</td>\n",
       "      <td>53940.000000</td>\n",
       "      <td>53940.000000</td>\n",
       "    </tr>\n",
       "    <tr>\n",
       "      <th>mean</th>\n",
       "      <td>0.797940</td>\n",
       "      <td>61.749405</td>\n",
       "      <td>57.457184</td>\n",
       "      <td>3932.799722</td>\n",
       "      <td>5.731157</td>\n",
       "      <td>5.734526</td>\n",
       "      <td>3.538734</td>\n",
       "    </tr>\n",
       "    <tr>\n",
       "      <th>std</th>\n",
       "      <td>0.474011</td>\n",
       "      <td>1.432621</td>\n",
       "      <td>2.234491</td>\n",
       "      <td>3989.439738</td>\n",
       "      <td>1.121761</td>\n",
       "      <td>1.142135</td>\n",
       "      <td>0.705699</td>\n",
       "    </tr>\n",
       "    <tr>\n",
       "      <th>min</th>\n",
       "      <td>0.200000</td>\n",
       "      <td>43.000000</td>\n",
       "      <td>43.000000</td>\n",
       "      <td>326.000000</td>\n",
       "      <td>0.000000</td>\n",
       "      <td>0.000000</td>\n",
       "      <td>0.000000</td>\n",
       "    </tr>\n",
       "    <tr>\n",
       "      <th>25%</th>\n",
       "      <td>0.400000</td>\n",
       "      <td>61.000000</td>\n",
       "      <td>56.000000</td>\n",
       "      <td>950.000000</td>\n",
       "      <td>4.710000</td>\n",
       "      <td>4.720000</td>\n",
       "      <td>2.910000</td>\n",
       "    </tr>\n",
       "    <tr>\n",
       "      <th>50%</th>\n",
       "      <td>0.700000</td>\n",
       "      <td>61.800000</td>\n",
       "      <td>57.000000</td>\n",
       "      <td>2401.000000</td>\n",
       "      <td>5.700000</td>\n",
       "      <td>5.710000</td>\n",
       "      <td>3.530000</td>\n",
       "    </tr>\n",
       "    <tr>\n",
       "      <th>75%</th>\n",
       "      <td>1.040000</td>\n",
       "      <td>62.500000</td>\n",
       "      <td>59.000000</td>\n",
       "      <td>5324.250000</td>\n",
       "      <td>6.540000</td>\n",
       "      <td>6.540000</td>\n",
       "      <td>4.040000</td>\n",
       "    </tr>\n",
       "    <tr>\n",
       "      <th>max</th>\n",
       "      <td>5.010000</td>\n",
       "      <td>79.000000</td>\n",
       "      <td>95.000000</td>\n",
       "      <td>18823.000000</td>\n",
       "      <td>10.740000</td>\n",
       "      <td>58.900000</td>\n",
       "      <td>31.800000</td>\n",
       "    </tr>\n",
       "  </tbody>\n",
       "</table>\n",
       "</div>"
      ],
      "text/plain": [
       "              carat         depth         table         price             x  \\\n",
       "count  53940.000000  53940.000000  53940.000000  53940.000000  53940.000000   \n",
       "mean       0.797940     61.749405     57.457184   3932.799722      5.731157   \n",
       "std        0.474011      1.432621      2.234491   3989.439738      1.121761   \n",
       "min        0.200000     43.000000     43.000000    326.000000      0.000000   \n",
       "25%        0.400000     61.000000     56.000000    950.000000      4.710000   \n",
       "50%        0.700000     61.800000     57.000000   2401.000000      5.700000   \n",
       "75%        1.040000     62.500000     59.000000   5324.250000      6.540000   \n",
       "max        5.010000     79.000000     95.000000  18823.000000     10.740000   \n",
       "\n",
       "                  y             z  \n",
       "count  53940.000000  53940.000000  \n",
       "mean       5.734526      3.538734  \n",
       "std        1.142135      0.705699  \n",
       "min        0.000000      0.000000  \n",
       "25%        4.720000      2.910000  \n",
       "50%        5.710000      3.530000  \n",
       "75%        6.540000      4.040000  \n",
       "max       58.900000     31.800000  "
      ]
     },
     "execution_count": 14,
     "metadata": {},
     "output_type": "execute_result"
    }
   ],
   "source": [
    "df.describe()"
   ]
  },
  {
   "cell_type": "code",
   "execution_count": 20,
   "id": "1767d19f",
   "metadata": {},
   "outputs": [
    {
     "data": {
      "text/plain": [
       "<seaborn.axisgrid.PairGrid at 0x1a9acf974d0>"
      ]
     },
     "execution_count": 20,
     "metadata": {},
     "output_type": "execute_result"
    }
   ],
   "source": [
    "sns.pairplot(df)"
   ]
  },
  {
   "cell_type": "code",
   "execution_count": 15,
   "id": "24d3575a",
   "metadata": {},
   "outputs": [
    {
     "data": {
      "text/plain": [
       "<Axes: title={'center': 'Color'}, xlabel='color', ylabel='count'>"
      ]
     },
     "execution_count": 15,
     "metadata": {},
     "output_type": "execute_result"
    }
   ],
   "source": [
    "#Univariate analysis - categorical data\n",
    "\n",
    "fig, axs = plt.subplots(1, 3, figsize=(12,3), constrained_layout=True)\n",
    "fig.suptitle('Univariate plotting - categorical features')\n",
    "\n",
    "axs[0].set_title('Cut')\n",
    "sns.countplot(data=df, x='cut', ax=axs[0])\n",
    "\n",
    "axs[1].set_title('Clarity')\n",
    "sns.countplot(data=df, x='clarity', ax=axs[1])\n",
    "\n",
    "axs[2].set_title('Color')\n",
    "sns.countplot(data=df, x='color', ax=axs[2])"
   ]
  },
  {
   "cell_type": "code",
   "execution_count": 16,
   "id": "250bc4e6",
   "metadata": {},
   "outputs": [
    {
     "data": {
      "text/plain": [
       "<Axes: title={'center': 'Color vs Price'}, xlabel='price', ylabel='color'>"
      ]
     },
     "execution_count": 16,
     "metadata": {},
     "output_type": "execute_result"
    }
   ],
   "source": [
    "#Cat vs Num analysis - Bivariate\n",
    "\n",
    "fig, axs = plt.subplots(1,3, figsize=(10,3), constrained_layout=True)\n",
    "fig.suptitle('Num vs Cat feature visualization')\n",
    "\n",
    "axs[0].set_title('Cut vs Price')\n",
    "sns.boxplot(data=df, x='price', y='cut', ax=axs[0])\n",
    "\n",
    "axs[1].set_title('Clarity vs Price')\n",
    "sns.boxplot(data=df, x='price', y='clarity', ax=axs[1])\n",
    "\n",
    "\n",
    "axs[2].set_title('Color vs Price')\n",
    "sns.boxplot(data=df, x='price', y='color', ax=axs[2])"
   ]
  },
  {
   "cell_type": "code",
   "execution_count": 17,
   "id": "d0ce5c7e",
   "metadata": {},
   "outputs": [
    {
     "data": {
      "text/plain": [
       "<Axes: title={'center': 'Z'}, xlabel='z', ylabel='Count'>"
      ]
     },
     "execution_count": 17,
     "metadata": {},
     "output_type": "execute_result"
    }
   ],
   "source": [
    "fig, axs =plt.subplots(2,3, figsize=(12,7), constrained_layout=True)\n",
    "fig.suptitle('Univariate plot for numerical features')\n",
    "\n",
    "axs[0,0].set_title('Carat')\n",
    "sns.histplot(data=df, x='carat', ax=axs[0,0])\n",
    "\n",
    "axs[0,1].set_title('Depth')\n",
    "sns.histplot(data=df, x='depth', ax=axs[0,1])\n",
    "\n",
    "axs[0,2].set_title('Table')\n",
    "sns.histplot(data=df, x='table', ax=axs[0,2])\n",
    "\n",
    "\n",
    "axs[1,0].set_title('X')\n",
    "sns.histplot(data=df, x='x', ax=axs[1,0])\n",
    "\n",
    "axs[1,1].set_title('Y')\n",
    "sns.histplot(data=df, x='y', ax=axs[1,1])\n",
    "\n",
    "axs[1,2].set_title('Z')\n",
    "sns.histplot(data=df, x='z', ax=axs[1,2])\n"
   ]
  },
  {
   "cell_type": "code",
   "execution_count": 18,
   "id": "c57b2f06",
   "metadata": {},
   "outputs": [
    {
     "data": {
      "text/plain": [
       "<seaborn.axisgrid.PairGrid at 0x1a9a81eb620>"
      ]
     },
     "execution_count": 18,
     "metadata": {},
     "output_type": "execute_result"
    }
   ],
   "source": [
    "#Num vs Num 1\n",
    "\n",
    "sns.pairplot(data=df,\n",
    "            x_vars=['carat', 'depth', 'table'],\n",
    "            y_vars='price')"
   ]
  },
  {
   "cell_type": "code",
   "execution_count": 19,
   "id": "33a691dd",
   "metadata": {},
   "outputs": [
    {
     "data": {
      "text/plain": [
       "<seaborn.axisgrid.PairGrid at 0x1a9acba2990>"
      ]
     },
     "execution_count": 19,
     "metadata": {},
     "output_type": "execute_result"
    }
   ],
   "source": [
    "#Num vs Num 2\n",
    "\n",
    "sns.pairplot(data=df,\n",
    "            x_vars=['x', 'y', 'z'],\n",
    "            y_vars='price')"
   ]
  },
  {
   "cell_type": "markdown",
   "id": "46399d7f",
   "metadata": {},
   "source": [
    "## Separate the inputs and outputs"
   ]
  },
  {
   "cell_type": "code",
   "execution_count": 21,
   "id": "09a1dcdb",
   "metadata": {},
   "outputs": [],
   "source": [
    "\n",
    "\n",
    "X = df.drop(columns=['price'])\n",
    "y = df['price']"
   ]
  },
  {
   "cell_type": "markdown",
   "id": "92d4dccc",
   "metadata": {},
   "source": [
    "## Split the data into train and test"
   ]
  },
  {
   "cell_type": "code",
   "execution_count": 22,
   "id": "3dc8002a",
   "metadata": {},
   "outputs": [
    {
     "name": "stdout",
     "output_type": "stream",
     "text": [
      "(40455, 9) (13485, 9)\n",
      "(40455,) (13485,)\n"
     ]
    }
   ],
   "source": [
    "## Step 4 - split data into train and test\n",
    "from sklearn.model_selection import train_test_split\n",
    "\n",
    "X_train, X_test, y_train, y_test = train_test_split(X, y, test_size=0.25, random_state=0)\n",
    "\n",
    "print(X_train.shape, X_test.shape)\n",
    "print(y_train.shape, y_test.shape)"
   ]
  },
  {
   "cell_type": "markdown",
   "id": "0b243642",
   "metadata": {},
   "source": [
    "## Apply Data Preparation on training data"
   ]
  },
  {
   "cell_type": "code",
   "execution_count": 23,
   "id": "cd5a4a0e",
   "metadata": {},
   "outputs": [],
   "source": [
    "#1. seperate numerical and categorical fatures\n",
    "\n",
    "X_train_cat = X_train.select_dtypes(include=['object'])\n",
    "X_train_num = X_train.select_dtypes(include=['number'])"
   ]
  },
  {
   "cell_type": "code",
   "execution_count": 24,
   "id": "4e0c1e24",
   "metadata": {},
   "outputs": [
    {
     "data": {
      "text/html": [
       "<div>\n",
       "<style scoped>\n",
       "    .dataframe tbody tr th:only-of-type {\n",
       "        vertical-align: middle;\n",
       "    }\n",
       "\n",
       "    .dataframe tbody tr th {\n",
       "        vertical-align: top;\n",
       "    }\n",
       "\n",
       "    .dataframe thead th {\n",
       "        text-align: right;\n",
       "    }\n",
       "</style>\n",
       "<table border=\"1\" class=\"dataframe\">\n",
       "  <thead>\n",
       "    <tr style=\"text-align: right;\">\n",
       "      <th></th>\n",
       "      <th>cut</th>\n",
       "      <th>color</th>\n",
       "      <th>clarity</th>\n",
       "    </tr>\n",
       "  </thead>\n",
       "  <tbody>\n",
       "    <tr>\n",
       "      <th>441</th>\n",
       "      <td>Premium</td>\n",
       "      <td>H</td>\n",
       "      <td>SI2</td>\n",
       "    </tr>\n",
       "    <tr>\n",
       "      <th>50332</th>\n",
       "      <td>Very Good</td>\n",
       "      <td>D</td>\n",
       "      <td>SI1</td>\n",
       "    </tr>\n",
       "    <tr>\n",
       "      <th>35652</th>\n",
       "      <td>Ideal</td>\n",
       "      <td>G</td>\n",
       "      <td>VVS2</td>\n",
       "    </tr>\n",
       "    <tr>\n",
       "      <th>9439</th>\n",
       "      <td>Very Good</td>\n",
       "      <td>H</td>\n",
       "      <td>VS1</td>\n",
       "    </tr>\n",
       "    <tr>\n",
       "      <th>15824</th>\n",
       "      <td>Good</td>\n",
       "      <td>F</td>\n",
       "      <td>VS2</td>\n",
       "    </tr>\n",
       "  </tbody>\n",
       "</table>\n",
       "</div>"
      ],
      "text/plain": [
       "             cut color clarity\n",
       "441      Premium     H     SI2\n",
       "50332  Very Good     D     SI1\n",
       "35652      Ideal     G    VVS2\n",
       "9439   Very Good     H     VS1\n",
       "15824       Good     F     VS2"
      ]
     },
     "execution_count": 24,
     "metadata": {},
     "output_type": "execute_result"
    }
   ],
   "source": [
    "X_train_cat.head()"
   ]
  },
  {
   "cell_type": "code",
   "execution_count": 25,
   "id": "a90fb074",
   "metadata": {},
   "outputs": [
    {
     "data": {
      "text/html": [
       "<div>\n",
       "<style scoped>\n",
       "    .dataframe tbody tr th:only-of-type {\n",
       "        vertical-align: middle;\n",
       "    }\n",
       "\n",
       "    .dataframe tbody tr th {\n",
       "        vertical-align: top;\n",
       "    }\n",
       "\n",
       "    .dataframe thead th {\n",
       "        text-align: right;\n",
       "    }\n",
       "</style>\n",
       "<table border=\"1\" class=\"dataframe\">\n",
       "  <thead>\n",
       "    <tr style=\"text-align: right;\">\n",
       "      <th></th>\n",
       "      <th>carat</th>\n",
       "      <th>depth</th>\n",
       "      <th>table</th>\n",
       "      <th>x</th>\n",
       "      <th>y</th>\n",
       "      <th>z</th>\n",
       "    </tr>\n",
       "  </thead>\n",
       "  <tbody>\n",
       "    <tr>\n",
       "      <th>441</th>\n",
       "      <td>0.89</td>\n",
       "      <td>60.2</td>\n",
       "      <td>59.0</td>\n",
       "      <td>6.26</td>\n",
       "      <td>6.23</td>\n",
       "      <td>3.76</td>\n",
       "    </tr>\n",
       "    <tr>\n",
       "      <th>50332</th>\n",
       "      <td>0.70</td>\n",
       "      <td>64.0</td>\n",
       "      <td>53.0</td>\n",
       "      <td>5.57</td>\n",
       "      <td>5.61</td>\n",
       "      <td>3.58</td>\n",
       "    </tr>\n",
       "    <tr>\n",
       "      <th>35652</th>\n",
       "      <td>0.31</td>\n",
       "      <td>62.7</td>\n",
       "      <td>57.0</td>\n",
       "      <td>4.33</td>\n",
       "      <td>4.31</td>\n",
       "      <td>2.71</td>\n",
       "    </tr>\n",
       "    <tr>\n",
       "      <th>9439</th>\n",
       "      <td>0.90</td>\n",
       "      <td>62.3</td>\n",
       "      <td>59.0</td>\n",
       "      <td>6.12</td>\n",
       "      <td>6.17</td>\n",
       "      <td>3.83</td>\n",
       "    </tr>\n",
       "    <tr>\n",
       "      <th>15824</th>\n",
       "      <td>1.01</td>\n",
       "      <td>60.6</td>\n",
       "      <td>62.0</td>\n",
       "      <td>6.52</td>\n",
       "      <td>6.49</td>\n",
       "      <td>3.94</td>\n",
       "    </tr>\n",
       "  </tbody>\n",
       "</table>\n",
       "</div>"
      ],
      "text/plain": [
       "       carat  depth  table     x     y     z\n",
       "441     0.89   60.2   59.0  6.26  6.23  3.76\n",
       "50332   0.70   64.0   53.0  5.57  5.61  3.58\n",
       "35652   0.31   62.7   57.0  4.33  4.31  2.71\n",
       "9439    0.90   62.3   59.0  6.12  6.17  3.83\n",
       "15824   1.01   60.6   62.0  6.52  6.49  3.94"
      ]
     },
     "execution_count": 25,
     "metadata": {},
     "output_type": "execute_result"
    }
   ],
   "source": [
    "X_train_num.head()"
   ]
  },
  {
   "cell_type": "code",
   "execution_count": 26,
   "id": "d6212678",
   "metadata": {},
   "outputs": [
    {
     "data": {
      "text/html": [
       "<div>\n",
       "<style scoped>\n",
       "    .dataframe tbody tr th:only-of-type {\n",
       "        vertical-align: middle;\n",
       "    }\n",
       "\n",
       "    .dataframe tbody tr th {\n",
       "        vertical-align: top;\n",
       "    }\n",
       "\n",
       "    .dataframe thead th {\n",
       "        text-align: right;\n",
       "    }\n",
       "</style>\n",
       "<table border=\"1\" class=\"dataframe\">\n",
       "  <thead>\n",
       "    <tr style=\"text-align: right;\">\n",
       "      <th></th>\n",
       "      <th>carat</th>\n",
       "      <th>depth</th>\n",
       "      <th>table</th>\n",
       "      <th>x</th>\n",
       "      <th>y</th>\n",
       "      <th>z</th>\n",
       "    </tr>\n",
       "  </thead>\n",
       "  <tbody>\n",
       "    <tr>\n",
       "      <th>count</th>\n",
       "      <td>40455.000</td>\n",
       "      <td>40455.000</td>\n",
       "      <td>40455.000</td>\n",
       "      <td>40455.000</td>\n",
       "      <td>40455.000</td>\n",
       "      <td>40455.000</td>\n",
       "    </tr>\n",
       "    <tr>\n",
       "      <th>mean</th>\n",
       "      <td>-0.000</td>\n",
       "      <td>0.000</td>\n",
       "      <td>-0.000</td>\n",
       "      <td>-0.000</td>\n",
       "      <td>-0.000</td>\n",
       "      <td>0.000</td>\n",
       "    </tr>\n",
       "    <tr>\n",
       "      <th>std</th>\n",
       "      <td>1.000</td>\n",
       "      <td>1.000</td>\n",
       "      <td>1.000</td>\n",
       "      <td>1.000</td>\n",
       "      <td>1.000</td>\n",
       "      <td>1.000</td>\n",
       "    </tr>\n",
       "    <tr>\n",
       "      <th>min</th>\n",
       "      <td>-1.260</td>\n",
       "      <td>-13.095</td>\n",
       "      <td>-6.484</td>\n",
       "      <td>-5.104</td>\n",
       "      <td>-4.978</td>\n",
       "      <td>-4.985</td>\n",
       "    </tr>\n",
       "    <tr>\n",
       "      <th>25%</th>\n",
       "      <td>-0.838</td>\n",
       "      <td>-0.457</td>\n",
       "      <td>-0.652</td>\n",
       "      <td>-0.909</td>\n",
       "      <td>-0.880</td>\n",
       "      <td>-0.885</td>\n",
       "    </tr>\n",
       "    <tr>\n",
       "      <th>50%</th>\n",
       "      <td>-0.206</td>\n",
       "      <td>0.101</td>\n",
       "      <td>-0.203</td>\n",
       "      <td>-0.036</td>\n",
       "      <td>-0.020</td>\n",
       "      <td>-0.026</td>\n",
       "    </tr>\n",
       "    <tr>\n",
       "      <th>75%</th>\n",
       "      <td>0.511</td>\n",
       "      <td>0.520</td>\n",
       "      <td>0.694</td>\n",
       "      <td>0.722</td>\n",
       "      <td>0.700</td>\n",
       "      <td>0.707</td>\n",
       "    </tr>\n",
       "    <tr>\n",
       "      <th>max</th>\n",
       "      <td>8.882</td>\n",
       "      <td>12.041</td>\n",
       "      <td>9.667</td>\n",
       "      <td>4.463</td>\n",
       "      <td>46.156</td>\n",
       "      <td>39.819</td>\n",
       "    </tr>\n",
       "  </tbody>\n",
       "</table>\n",
       "</div>"
      ],
      "text/plain": [
       "           carat      depth      table          x          y          z\n",
       "count  40455.000  40455.000  40455.000  40455.000  40455.000  40455.000\n",
       "mean      -0.000      0.000     -0.000     -0.000     -0.000      0.000\n",
       "std        1.000      1.000      1.000      1.000      1.000      1.000\n",
       "min       -1.260    -13.095     -6.484     -5.104     -4.978     -4.985\n",
       "25%       -0.838     -0.457     -0.652     -0.909     -0.880     -0.885\n",
       "50%       -0.206      0.101     -0.203     -0.036     -0.020     -0.026\n",
       "75%        0.511      0.520      0.694      0.722      0.700      0.707\n",
       "max        8.882     12.041      9.667      4.463     46.156     39.819"
      ]
     },
     "execution_count": 26,
     "metadata": {},
     "output_type": "execute_result"
    }
   ],
   "source": [
    "#2. Using standardization for rescaling\n",
    "\n",
    "from sklearn.preprocessing import StandardScaler\n",
    "\n",
    "std_scaler = StandardScaler()\n",
    "\n",
    "#after rescaling, column names are lost since the dataframe is converted to a numpy ndarray\n",
    "X_train_num_transformed = pd.DataFrame(std_scaler.fit_transform(X_train_num),\n",
    "                                      columns=std_scaler.get_feature_names_out(),\n",
    "                                      index=X_train_num.index)\n",
    "X_train_num_transformed.describe().round(3)\n"
   ]
  },
  {
   "cell_type": "code",
   "execution_count": 27,
   "id": "96ededbe",
   "metadata": {},
   "outputs": [
    {
     "data": {
      "text/html": [
       "<div>\n",
       "<style scoped>\n",
       "    .dataframe tbody tr th:only-of-type {\n",
       "        vertical-align: middle;\n",
       "    }\n",
       "\n",
       "    .dataframe tbody tr th {\n",
       "        vertical-align: top;\n",
       "    }\n",
       "\n",
       "    .dataframe thead th {\n",
       "        text-align: right;\n",
       "    }\n",
       "</style>\n",
       "<table border=\"1\" class=\"dataframe\">\n",
       "  <thead>\n",
       "    <tr style=\"text-align: right;\">\n",
       "      <th></th>\n",
       "      <th>cut</th>\n",
       "      <th>color</th>\n",
       "      <th>clarity</th>\n",
       "    </tr>\n",
       "  </thead>\n",
       "  <tbody>\n",
       "    <tr>\n",
       "      <th>441</th>\n",
       "      <td>3.0</td>\n",
       "      <td>-1.0</td>\n",
       "      <td>1.0</td>\n",
       "    </tr>\n",
       "    <tr>\n",
       "      <th>50332</th>\n",
       "      <td>2.0</td>\n",
       "      <td>5.0</td>\n",
       "      <td>2.0</td>\n",
       "    </tr>\n",
       "    <tr>\n",
       "      <th>35652</th>\n",
       "      <td>4.0</td>\n",
       "      <td>2.0</td>\n",
       "      <td>5.0</td>\n",
       "    </tr>\n",
       "    <tr>\n",
       "      <th>9439</th>\n",
       "      <td>2.0</td>\n",
       "      <td>-1.0</td>\n",
       "      <td>4.0</td>\n",
       "    </tr>\n",
       "    <tr>\n",
       "      <th>15824</th>\n",
       "      <td>1.0</td>\n",
       "      <td>3.0</td>\n",
       "      <td>3.0</td>\n",
       "    </tr>\n",
       "  </tbody>\n",
       "</table>\n",
       "</div>"
      ],
      "text/plain": [
       "       cut  color  clarity\n",
       "441    3.0   -1.0      1.0\n",
       "50332  2.0    5.0      2.0\n",
       "35652  4.0    2.0      5.0\n",
       "9439   2.0   -1.0      4.0\n",
       "15824  1.0    3.0      3.0"
      ]
     },
     "execution_count": 27,
     "metadata": {},
     "output_type": "execute_result"
    }
   ],
   "source": [
    "#defining the ordering for categorical columns - lowest to highest\n",
    "\n",
    "cut_cat = ['Fair', 'Good', 'Very Good', 'Premium', 'Ideal']\n",
    "color_cat = ['J', 'I', 'G', 'F', 'E', 'D']\n",
    "clarity_cat = ['I1', 'SI2', 'SI1', 'VS2', 'VS1', 'VVS2', 'VVS1', 'IF']\n",
    "\n",
    "# creating the ordinal encoder\n",
    "from sklearn.preprocessing import OrdinalEncoder\n",
    "\n",
    "ordinal_encoder = OrdinalEncoder(categories = [cut_cat, color_cat, clarity_cat],\n",
    "                                handle_unknown='use_encoded_value',\n",
    "                                unknown_value=-1,\n",
    "                                encoded_missing_value=-5)\n",
    "\n",
    "#applying the encoder\n",
    "X_train_cat_transformed = pd.DataFrame(ordinal_encoder.fit_transform(X_train_cat),\n",
    "                                columns=ordinal_encoder.get_feature_names_out(),\n",
    "                                index = X_train_cat.index)\n",
    "X_train_cat_transformed.head()"
   ]
  },
  {
   "cell_type": "code",
   "execution_count": 28,
   "id": "3be8aa1b",
   "metadata": {},
   "outputs": [
    {
     "data": {
      "text/html": [
       "<div>\n",
       "<style scoped>\n",
       "    .dataframe tbody tr th:only-of-type {\n",
       "        vertical-align: middle;\n",
       "    }\n",
       "\n",
       "    .dataframe tbody tr th {\n",
       "        vertical-align: top;\n",
       "    }\n",
       "\n",
       "    .dataframe thead th {\n",
       "        text-align: right;\n",
       "    }\n",
       "</style>\n",
       "<table border=\"1\" class=\"dataframe\">\n",
       "  <thead>\n",
       "    <tr style=\"text-align: right;\">\n",
       "      <th></th>\n",
       "      <th>carat</th>\n",
       "      <th>depth</th>\n",
       "      <th>table</th>\n",
       "      <th>x</th>\n",
       "      <th>y</th>\n",
       "      <th>z</th>\n",
       "      <th>cut</th>\n",
       "      <th>color</th>\n",
       "      <th>clarity</th>\n",
       "    </tr>\n",
       "  </thead>\n",
       "  <tbody>\n",
       "    <tr>\n",
       "      <th>441</th>\n",
       "      <td>0.194920</td>\n",
       "      <td>-1.085697</td>\n",
       "      <td>0.694368</td>\n",
       "      <td>0.472201</td>\n",
       "      <td>0.430971</td>\n",
       "      <td>0.312528</td>\n",
       "      <td>3.0</td>\n",
       "      <td>-1.0</td>\n",
       "      <td>1.0</td>\n",
       "    </tr>\n",
       "    <tr>\n",
       "      <th>50332</th>\n",
       "      <td>-0.205679</td>\n",
       "      <td>1.567623</td>\n",
       "      <td>-1.997562</td>\n",
       "      <td>-0.142482</td>\n",
       "      <td>-0.107276</td>\n",
       "      <td>0.058918</td>\n",
       "      <td>2.0</td>\n",
       "      <td>5.0</td>\n",
       "      <td>2.0</td>\n",
       "    </tr>\n",
       "    <tr>\n",
       "      <th>35652</th>\n",
       "      <td>-1.027961</td>\n",
       "      <td>0.659908</td>\n",
       "      <td>-0.202942</td>\n",
       "      <td>-1.247129</td>\n",
       "      <td>-1.235860</td>\n",
       "      <td>-1.166861</td>\n",
       "      <td>4.0</td>\n",
       "      <td>2.0</td>\n",
       "      <td>5.0</td>\n",
       "    </tr>\n",
       "    <tr>\n",
       "      <th>9439</th>\n",
       "      <td>0.216004</td>\n",
       "      <td>0.380611</td>\n",
       "      <td>0.694368</td>\n",
       "      <td>0.347483</td>\n",
       "      <td>0.378883</td>\n",
       "      <td>0.411154</td>\n",
       "      <td>2.0</td>\n",
       "      <td>-1.0</td>\n",
       "      <td>4.0</td>\n",
       "    </tr>\n",
       "    <tr>\n",
       "      <th>15824</th>\n",
       "      <td>0.447930</td>\n",
       "      <td>-0.806400</td>\n",
       "      <td>2.040332</td>\n",
       "      <td>0.703821</td>\n",
       "      <td>0.656688</td>\n",
       "      <td>0.566137</td>\n",
       "      <td>1.0</td>\n",
       "      <td>3.0</td>\n",
       "      <td>3.0</td>\n",
       "    </tr>\n",
       "  </tbody>\n",
       "</table>\n",
       "</div>"
      ],
      "text/plain": [
       "          carat     depth     table         x         y         z  cut  color  \\\n",
       "441    0.194920 -1.085697  0.694368  0.472201  0.430971  0.312528  3.0   -1.0   \n",
       "50332 -0.205679  1.567623 -1.997562 -0.142482 -0.107276  0.058918  2.0    5.0   \n",
       "35652 -1.027961  0.659908 -0.202942 -1.247129 -1.235860 -1.166861  4.0    2.0   \n",
       "9439   0.216004  0.380611  0.694368  0.347483  0.378883  0.411154  2.0   -1.0   \n",
       "15824  0.447930 -0.806400  2.040332  0.703821  0.656688  0.566137  1.0    3.0   \n",
       "\n",
       "       clarity  \n",
       "441        1.0  \n",
       "50332      2.0  \n",
       "35652      5.0  \n",
       "9439       4.0  \n",
       "15824      3.0  "
      ]
     },
     "execution_count": 28,
     "metadata": {},
     "output_type": "execute_result"
    }
   ],
   "source": [
    "#concatenate X_train_num_transformed and X_train_cat_transformed\n",
    "\n",
    "X_train_transformed = pd.concat([X_train_num_transformed, X_train_cat_transformed], axis=1)\n",
    "\n",
    "X_train_transformed.head()"
   ]
  },
  {
   "cell_type": "markdown",
   "id": "8809f160",
   "metadata": {},
   "source": [
    "## Apply data preparation on test data"
   ]
  },
  {
   "cell_type": "code",
   "execution_count": 29,
   "id": "b29f03fb",
   "metadata": {},
   "outputs": [
    {
     "data": {
      "text/html": [
       "<div>\n",
       "<style scoped>\n",
       "    .dataframe tbody tr th:only-of-type {\n",
       "        vertical-align: middle;\n",
       "    }\n",
       "\n",
       "    .dataframe tbody tr th {\n",
       "        vertical-align: top;\n",
       "    }\n",
       "\n",
       "    .dataframe thead th {\n",
       "        text-align: right;\n",
       "    }\n",
       "</style>\n",
       "<table border=\"1\" class=\"dataframe\">\n",
       "  <thead>\n",
       "    <tr style=\"text-align: right;\">\n",
       "      <th></th>\n",
       "      <th>carat</th>\n",
       "      <th>depth</th>\n",
       "      <th>table</th>\n",
       "      <th>x</th>\n",
       "      <th>y</th>\n",
       "      <th>z</th>\n",
       "      <th>cut</th>\n",
       "      <th>color</th>\n",
       "      <th>clarity</th>\n",
       "    </tr>\n",
       "  </thead>\n",
       "  <tbody>\n",
       "    <tr>\n",
       "      <th>10176</th>\n",
       "      <td>0.637687</td>\n",
       "      <td>0.171139</td>\n",
       "      <td>-1.100252</td>\n",
       "      <td>0.783997</td>\n",
       "      <td>0.795591</td>\n",
       "      <td>0.805657</td>\n",
       "      <td>4.0</td>\n",
       "      <td>-1.0</td>\n",
       "      <td>1.0</td>\n",
       "    </tr>\n",
       "    <tr>\n",
       "      <th>16083</th>\n",
       "      <td>1.038286</td>\n",
       "      <td>0.590084</td>\n",
       "      <td>-0.651597</td>\n",
       "      <td>1.095792</td>\n",
       "      <td>1.038670</td>\n",
       "      <td>1.143803</td>\n",
       "      <td>4.0</td>\n",
       "      <td>-1.0</td>\n",
       "      <td>2.0</td>\n",
       "    </tr>\n",
       "    <tr>\n",
       "      <th>13420</th>\n",
       "      <td>0.848529</td>\n",
       "      <td>-0.457279</td>\n",
       "      <td>0.245713</td>\n",
       "      <td>1.024525</td>\n",
       "      <td>0.925812</td>\n",
       "      <td>0.904283</td>\n",
       "      <td>3.0</td>\n",
       "      <td>1.0</td>\n",
       "      <td>2.0</td>\n",
       "    </tr>\n",
       "    <tr>\n",
       "      <th>20407</th>\n",
       "      <td>1.481053</td>\n",
       "      <td>-0.596928</td>\n",
       "      <td>-0.651597</td>\n",
       "      <td>1.514489</td>\n",
       "      <td>1.411971</td>\n",
       "      <td>1.355144</td>\n",
       "      <td>4.0</td>\n",
       "      <td>3.0</td>\n",
       "      <td>2.0</td>\n",
       "    </tr>\n",
       "    <tr>\n",
       "      <th>8909</th>\n",
       "      <td>0.216004</td>\n",
       "      <td>-0.038334</td>\n",
       "      <td>-0.202942</td>\n",
       "      <td>0.392025</td>\n",
       "      <td>0.413609</td>\n",
       "      <td>0.397064</td>\n",
       "      <td>2.0</td>\n",
       "      <td>3.0</td>\n",
       "      <td>3.0</td>\n",
       "    </tr>\n",
       "  </tbody>\n",
       "</table>\n",
       "</div>"
      ],
      "text/plain": [
       "          carat     depth     table         x         y         z  cut  color  \\\n",
       "10176  0.637687  0.171139 -1.100252  0.783997  0.795591  0.805657  4.0   -1.0   \n",
       "16083  1.038286  0.590084 -0.651597  1.095792  1.038670  1.143803  4.0   -1.0   \n",
       "13420  0.848529 -0.457279  0.245713  1.024525  0.925812  0.904283  3.0    1.0   \n",
       "20407  1.481053 -0.596928 -0.651597  1.514489  1.411971  1.355144  4.0    3.0   \n",
       "8909   0.216004 -0.038334 -0.202942  0.392025  0.413609  0.397064  2.0    3.0   \n",
       "\n",
       "       clarity  \n",
       "10176      1.0  \n",
       "16083      2.0  \n",
       "13420      2.0  \n",
       "20407      2.0  \n",
       "8909       3.0  "
      ]
     },
     "execution_count": 29,
     "metadata": {},
     "output_type": "execute_result"
    }
   ],
   "source": [
    "#seperate cat and num features\n",
    "\n",
    "X_test_cat = X_test.select_dtypes(include=['object'])\n",
    "X_test_num = X_test.select_dtypes(include=['int64', 'float64'])\n",
    "\n",
    "#applying transformation on numerical columns\n",
    "X_test_num_transformed = pd.DataFrame(std_scaler.transform(X_test_num),\n",
    "                                     columns=std_scaler.get_feature_names_out(),\n",
    "                                     index=X_test_num.index)\n",
    "\n",
    "#applying transformation on categorical columns\n",
    "X_test_cat_transformed = pd.DataFrame(ordinal_encoder.transform(X_test_cat),\n",
    "                                     columns=ordinal_encoder.get_feature_names_out(),\n",
    "                                     index=X_test_cat.index)\n",
    "\n",
    "#concatenating\n",
    "X_test_transformed = pd.concat([X_test_num_transformed, X_test_cat_transformed], axis=1)\n",
    "X_test_transformed.head()\n"
   ]
  },
  {
   "cell_type": "markdown",
   "id": "0423f91a",
   "metadata": {},
   "source": [
    "## Apply Linear Regression Model"
   ]
  },
  {
   "cell_type": "code",
   "execution_count": 30,
   "id": "ebc1d5d7",
   "metadata": {},
   "outputs": [
    {
     "name": "stdout",
     "output_type": "stream",
     "text": [
      "Model's error:  828.3725514326799\n",
      "CPU times: total: 0 ns\n",
      "Wall time: 28.5 ms\n"
     ]
    }
   ],
   "source": [
    "%%time\n",
    "\n",
    "from sklearn.linear_model import LinearRegression\n",
    "from sklearn import metrics\n",
    "\n",
    "LR_regressor = LinearRegression()\n",
    "LR_regressor.fit(X_train_transformed, y_train)\n",
    "\n",
    "y_test_pred = LR_regressor.predict(X_test_transformed)\n",
    "\n",
    "LR_MAE = metrics.mean_absolute_error(y_test, y_test_pred)\n",
    "\n",
    "print(\"Model's error: \", LR_MAE)"
   ]
  },
  {
   "cell_type": "code",
   "execution_count": 31,
   "id": "2c3c2a69",
   "metadata": {},
   "outputs": [
    {
     "data": {
      "text/html": [
       "<div>\n",
       "<style scoped>\n",
       "    .dataframe tbody tr th:only-of-type {\n",
       "        vertical-align: middle;\n",
       "    }\n",
       "\n",
       "    .dataframe tbody tr th {\n",
       "        vertical-align: top;\n",
       "    }\n",
       "\n",
       "    .dataframe thead th {\n",
       "        text-align: right;\n",
       "    }\n",
       "</style>\n",
       "<table border=\"1\" class=\"dataframe\">\n",
       "  <thead>\n",
       "    <tr style=\"text-align: right;\">\n",
       "      <th></th>\n",
       "      <th>Actual</th>\n",
       "      <th>LR predictions</th>\n",
       "    </tr>\n",
       "  </thead>\n",
       "  <tbody>\n",
       "    <tr>\n",
       "      <th>10176</th>\n",
       "      <td>4733</td>\n",
       "      <td>4834.760460</td>\n",
       "    </tr>\n",
       "    <tr>\n",
       "      <th>16083</th>\n",
       "      <td>6424</td>\n",
       "      <td>6956.116354</td>\n",
       "    </tr>\n",
       "    <tr>\n",
       "      <th>13420</th>\n",
       "      <td>5510</td>\n",
       "      <td>6484.393756</td>\n",
       "    </tr>\n",
       "    <tr>\n",
       "      <th>20407</th>\n",
       "      <td>8770</td>\n",
       "      <td>9847.956335</td>\n",
       "    </tr>\n",
       "    <tr>\n",
       "      <th>8909</th>\n",
       "      <td>4493</td>\n",
       "      <td>4711.351694</td>\n",
       "    </tr>\n",
       "  </tbody>\n",
       "</table>\n",
       "</div>"
      ],
      "text/plain": [
       "       Actual  LR predictions\n",
       "10176    4733     4834.760460\n",
       "16083    6424     6956.116354\n",
       "13420    5510     6484.393756\n",
       "20407    8770     9847.956335\n",
       "8909     4493     4711.351694"
      ]
     },
     "execution_count": 31,
     "metadata": {},
     "output_type": "execute_result"
    }
   ],
   "source": [
    "output_df = pd.DataFrame({'Actual': y_test})\n",
    "\n",
    "output_df['LR predictions'] = y_test_pred\n",
    "output_df.head()"
   ]
  },
  {
   "cell_type": "code",
   "execution_count": 32,
   "id": "9be6a52b",
   "metadata": {},
   "outputs": [
    {
     "data": {
      "text/plain": [
       "<matplotlib.legend.Legend at 0x1a9a81ea120>"
      ]
     },
     "execution_count": 32,
     "metadata": {},
     "output_type": "execute_result"
    }
   ],
   "source": [
    "fig, ax = plt.subplots(figsize=(8,4))\n",
    "sns.histplot(output_df['Actual'], color='blue', alpha=0.5, label='actual')\n",
    "sns.histplot(output_df['LR predictions'], color='red', alpha=0.5, label='prediction')\n",
    "\n",
    "plt.legend()"
   ]
  },
  {
   "cell_type": "markdown",
   "id": "32e6e253",
   "metadata": {},
   "source": [
    "## Apply KNN Regression Model"
   ]
  },
  {
   "cell_type": "code",
   "execution_count": 33,
   "id": "d694abfd",
   "metadata": {},
   "outputs": [
    {
     "name": "stdout",
     "output_type": "stream",
     "text": [
      "Model's error:  385.01570634037824\n",
      "CPU times: total: 1.33 s\n",
      "Wall time: 2.53 s\n"
     ]
    }
   ],
   "source": [
    "%%time\n",
    "\n",
    "from sklearn.neighbors import KNeighborsRegressor\n",
    "from sklearn import metrics\n",
    "\n",
    "KNN_regressor = KNeighborsRegressor()\n",
    "KNN_regressor.fit(X_train_transformed, y_train)\n",
    "\n",
    "y_test_pred = KNN_regressor.predict(X_test_transformed)\n",
    "\n",
    "KNN_MAE = metrics.mean_absolute_error(y_test, y_test_pred)\n",
    "print(\"Model's error: \", KNN_MAE)"
   ]
  },
  {
   "cell_type": "code",
   "execution_count": 34,
   "id": "83691758",
   "metadata": {},
   "outputs": [
    {
     "data": {
      "text/html": [
       "<div>\n",
       "<style scoped>\n",
       "    .dataframe tbody tr th:only-of-type {\n",
       "        vertical-align: middle;\n",
       "    }\n",
       "\n",
       "    .dataframe tbody tr th {\n",
       "        vertical-align: top;\n",
       "    }\n",
       "\n",
       "    .dataframe thead th {\n",
       "        text-align: right;\n",
       "    }\n",
       "</style>\n",
       "<table border=\"1\" class=\"dataframe\">\n",
       "  <thead>\n",
       "    <tr style=\"text-align: right;\">\n",
       "      <th></th>\n",
       "      <th>Actual</th>\n",
       "      <th>LR predictions</th>\n",
       "      <th>KNN predictions</th>\n",
       "    </tr>\n",
       "  </thead>\n",
       "  <tbody>\n",
       "    <tr>\n",
       "      <th>10176</th>\n",
       "      <td>4733</td>\n",
       "      <td>4834.760460</td>\n",
       "      <td>4664.4</td>\n",
       "    </tr>\n",
       "    <tr>\n",
       "      <th>16083</th>\n",
       "      <td>6424</td>\n",
       "      <td>6956.116354</td>\n",
       "      <td>6278.2</td>\n",
       "    </tr>\n",
       "    <tr>\n",
       "      <th>13420</th>\n",
       "      <td>5510</td>\n",
       "      <td>6484.393756</td>\n",
       "      <td>5180.8</td>\n",
       "    </tr>\n",
       "    <tr>\n",
       "      <th>20407</th>\n",
       "      <td>8770</td>\n",
       "      <td>9847.956335</td>\n",
       "      <td>12080.0</td>\n",
       "    </tr>\n",
       "    <tr>\n",
       "      <th>8909</th>\n",
       "      <td>4493</td>\n",
       "      <td>4711.351694</td>\n",
       "      <td>6015.2</td>\n",
       "    </tr>\n",
       "  </tbody>\n",
       "</table>\n",
       "</div>"
      ],
      "text/plain": [
       "       Actual  LR predictions  KNN predictions\n",
       "10176    4733     4834.760460           4664.4\n",
       "16083    6424     6956.116354           6278.2\n",
       "13420    5510     6484.393756           5180.8\n",
       "20407    8770     9847.956335          12080.0\n",
       "8909     4493     4711.351694           6015.2"
      ]
     },
     "execution_count": 34,
     "metadata": {},
     "output_type": "execute_result"
    }
   ],
   "source": [
    "output_df['KNN predictions'] = y_test_pred\n",
    "output_df.head()"
   ]
  },
  {
   "cell_type": "code",
   "execution_count": 35,
   "id": "2e258111",
   "metadata": {},
   "outputs": [
    {
     "data": {
      "text/plain": [
       "<matplotlib.legend.Legend at 0x1a9b6b54e10>"
      ]
     },
     "execution_count": 35,
     "metadata": {},
     "output_type": "execute_result"
    }
   ],
   "source": [
    "fig, ax = plt.subplots(figsize=(8,3))\n",
    "\n",
    "sns.histplot(output_df['Actual'], color='blue', alpha=0.5, label='actual')\n",
    "sns.histplot(output_df['KNN predictions'], color='red', alpha=0.5, label='predictions')\n",
    "\n",
    "plt.legend()"
   ]
  },
  {
   "cell_type": "markdown",
   "id": "fb105664",
   "metadata": {},
   "source": [
    "## Using Decision Tree Regression Model"
   ]
  },
  {
   "cell_type": "code",
   "execution_count": 36,
   "id": "d660d612",
   "metadata": {},
   "outputs": [
    {
     "name": "stdout",
     "output_type": "stream",
     "text": [
      "Model's error: 354.4599555061179\n",
      "CPU times: total: 422 ms\n",
      "Wall time: 694 ms\n"
     ]
    }
   ],
   "source": [
    "%%time\n",
    "\n",
    "from sklearn.tree import DecisionTreeRegressor\n",
    "from sklearn import metrics\n",
    "\n",
    "DT_regressor = DecisionTreeRegressor()\n",
    "DT_regressor.fit(X_train_transformed, y_train)\n",
    "\n",
    "y_test_pred = DT_regressor.predict(X_test_transformed)\n",
    "\n",
    "DT_MAE = metrics.mean_absolute_error(y_test, y_test_pred)\n",
    "print(\"Model's error:\", DT_MAE)"
   ]
  },
  {
   "cell_type": "code",
   "execution_count": 37,
   "id": "86221dfd",
   "metadata": {},
   "outputs": [
    {
     "data": {
      "text/html": [
       "<div>\n",
       "<style scoped>\n",
       "    .dataframe tbody tr th:only-of-type {\n",
       "        vertical-align: middle;\n",
       "    }\n",
       "\n",
       "    .dataframe tbody tr th {\n",
       "        vertical-align: top;\n",
       "    }\n",
       "\n",
       "    .dataframe thead th {\n",
       "        text-align: right;\n",
       "    }\n",
       "</style>\n",
       "<table border=\"1\" class=\"dataframe\">\n",
       "  <thead>\n",
       "    <tr style=\"text-align: right;\">\n",
       "      <th></th>\n",
       "      <th>Actual</th>\n",
       "      <th>LR predictions</th>\n",
       "      <th>KNN predictions</th>\n",
       "      <th>DT predictions</th>\n",
       "    </tr>\n",
       "  </thead>\n",
       "  <tbody>\n",
       "    <tr>\n",
       "      <th>10176</th>\n",
       "      <td>4733</td>\n",
       "      <td>4834.760460</td>\n",
       "      <td>4664.4</td>\n",
       "      <td>4620.0</td>\n",
       "    </tr>\n",
       "    <tr>\n",
       "      <th>16083</th>\n",
       "      <td>6424</td>\n",
       "      <td>6956.116354</td>\n",
       "      <td>6278.2</td>\n",
       "      <td>7109.0</td>\n",
       "    </tr>\n",
       "    <tr>\n",
       "      <th>13420</th>\n",
       "      <td>5510</td>\n",
       "      <td>6484.393756</td>\n",
       "      <td>5180.8</td>\n",
       "      <td>5098.0</td>\n",
       "    </tr>\n",
       "    <tr>\n",
       "      <th>20407</th>\n",
       "      <td>8770</td>\n",
       "      <td>9847.956335</td>\n",
       "      <td>12080.0</td>\n",
       "      <td>12477.0</td>\n",
       "    </tr>\n",
       "    <tr>\n",
       "      <th>8909</th>\n",
       "      <td>4493</td>\n",
       "      <td>4711.351694</td>\n",
       "      <td>6015.2</td>\n",
       "      <td>4253.0</td>\n",
       "    </tr>\n",
       "  </tbody>\n",
       "</table>\n",
       "</div>"
      ],
      "text/plain": [
       "       Actual  LR predictions  KNN predictions  DT predictions\n",
       "10176    4733     4834.760460           4664.4          4620.0\n",
       "16083    6424     6956.116354           6278.2          7109.0\n",
       "13420    5510     6484.393756           5180.8          5098.0\n",
       "20407    8770     9847.956335          12080.0         12477.0\n",
       "8909     4493     4711.351694           6015.2          4253.0"
      ]
     },
     "execution_count": 37,
     "metadata": {},
     "output_type": "execute_result"
    }
   ],
   "source": [
    "output_df['DT predictions'] = y_test_pred\n",
    "output_df.head()"
   ]
  },
  {
   "cell_type": "code",
   "execution_count": 38,
   "id": "cd4669b9",
   "metadata": {},
   "outputs": [
    {
     "data": {
      "text/plain": [
       "<matplotlib.legend.Legend at 0x1a9b6c73d90>"
      ]
     },
     "execution_count": 38,
     "metadata": {},
     "output_type": "execute_result"
    }
   ],
   "source": [
    "fig, ax = plt.subplots(figsize=(8,3))\n",
    "\n",
    "sns.histplot(output_df['Actual'], color='blue', alpha=0.5, label='actual')\n",
    "sns.histplot(output_df['DT predictions'], color='red', alpha=0.5, label='predictions')\n",
    "plt.legend()"
   ]
  },
  {
   "cell_type": "markdown",
   "id": "5c2f93de",
   "metadata": {},
   "source": [
    "## Apply Ensemble (Random Forest Regression Model) \n"
   ]
  },
  {
   "cell_type": "code",
   "execution_count": 39,
   "id": "b443fb89",
   "metadata": {},
   "outputs": [
    {
     "name": "stdout",
     "output_type": "stream",
     "text": [
      "Model's error:  270.64114205848944\n",
      "CPU times: total: 25.2 s\n",
      "Wall time: 35 s\n"
     ]
    }
   ],
   "source": [
    "%%time\n",
    "\n",
    "from sklearn.ensemble import RandomForestRegressor\n",
    "from sklearn import metrics\n",
    "\n",
    "RF_regressor = RandomForestRegressor()\n",
    "RF_regressor.fit(X_train_transformed, y_train)\n",
    "\n",
    "y_test_pred = RF_regressor.predict(X_test_transformed)\n",
    "\n",
    "RF_MAE = metrics.mean_absolute_error(y_test, y_test_pred)\n",
    "print(\"Model's error: \", RF_MAE)"
   ]
  },
  {
   "cell_type": "code",
   "execution_count": 40,
   "id": "21f461cc",
   "metadata": {},
   "outputs": [
    {
     "data": {
      "text/html": [
       "<div>\n",
       "<style scoped>\n",
       "    .dataframe tbody tr th:only-of-type {\n",
       "        vertical-align: middle;\n",
       "    }\n",
       "\n",
       "    .dataframe tbody tr th {\n",
       "        vertical-align: top;\n",
       "    }\n",
       "\n",
       "    .dataframe thead th {\n",
       "        text-align: right;\n",
       "    }\n",
       "</style>\n",
       "<table border=\"1\" class=\"dataframe\">\n",
       "  <thead>\n",
       "    <tr style=\"text-align: right;\">\n",
       "      <th></th>\n",
       "      <th>Actual</th>\n",
       "      <th>LR predictions</th>\n",
       "      <th>KNN predictions</th>\n",
       "      <th>DT predictions</th>\n",
       "      <th>RF predictions</th>\n",
       "    </tr>\n",
       "  </thead>\n",
       "  <tbody>\n",
       "    <tr>\n",
       "      <th>10176</th>\n",
       "      <td>4733</td>\n",
       "      <td>4834.760460</td>\n",
       "      <td>4664.4</td>\n",
       "      <td>4620.0</td>\n",
       "      <td>4645.39</td>\n",
       "    </tr>\n",
       "    <tr>\n",
       "      <th>16083</th>\n",
       "      <td>6424</td>\n",
       "      <td>6956.116354</td>\n",
       "      <td>6278.2</td>\n",
       "      <td>7109.0</td>\n",
       "      <td>7043.45</td>\n",
       "    </tr>\n",
       "    <tr>\n",
       "      <th>13420</th>\n",
       "      <td>5510</td>\n",
       "      <td>6484.393756</td>\n",
       "      <td>5180.8</td>\n",
       "      <td>5098.0</td>\n",
       "      <td>5157.53</td>\n",
       "    </tr>\n",
       "    <tr>\n",
       "      <th>20407</th>\n",
       "      <td>8770</td>\n",
       "      <td>9847.956335</td>\n",
       "      <td>12080.0</td>\n",
       "      <td>12477.0</td>\n",
       "      <td>11132.08</td>\n",
       "    </tr>\n",
       "    <tr>\n",
       "      <th>8909</th>\n",
       "      <td>4493</td>\n",
       "      <td>4711.351694</td>\n",
       "      <td>6015.2</td>\n",
       "      <td>4253.0</td>\n",
       "      <td>4714.26</td>\n",
       "    </tr>\n",
       "  </tbody>\n",
       "</table>\n",
       "</div>"
      ],
      "text/plain": [
       "       Actual  LR predictions  KNN predictions  DT predictions  RF predictions\n",
       "10176    4733     4834.760460           4664.4          4620.0         4645.39\n",
       "16083    6424     6956.116354           6278.2          7109.0         7043.45\n",
       "13420    5510     6484.393756           5180.8          5098.0         5157.53\n",
       "20407    8770     9847.956335          12080.0         12477.0        11132.08\n",
       "8909     4493     4711.351694           6015.2          4253.0         4714.26"
      ]
     },
     "execution_count": 40,
     "metadata": {},
     "output_type": "execute_result"
    }
   ],
   "source": [
    "output_df['RF predictions'] = y_test_pred\n",
    "output_df.head()"
   ]
  },
  {
   "cell_type": "code",
   "execution_count": 41,
   "id": "ced6de23",
   "metadata": {},
   "outputs": [
    {
     "data": {
      "text/plain": [
       "<matplotlib.legend.Legend at 0x1a9b6cefed0>"
      ]
     },
     "execution_count": 41,
     "metadata": {},
     "output_type": "execute_result"
    }
   ],
   "source": [
    "fig, ax = plt.subplots(figsize=(8,3))\n",
    "\n",
    "sns.histplot(output_df['Actual'], color='blue', alpha=0.5, label='actual')\n",
    "sns.histplot(output_df['RF predictions'], color='red', alpha=0.5, label='predictions')\n",
    "\n",
    "plt.legend()"
   ]
  },
  {
   "cell_type": "code",
   "execution_count": 42,
   "id": "f284fe29",
   "metadata": {},
   "outputs": [
    {
     "data": {
      "text/plain": [
       "<matplotlib.legend.Legend at 0x1a9b729df90>"
      ]
     },
     "execution_count": 42,
     "metadata": {},
     "output_type": "execute_result"
    }
   ],
   "source": [
    "fig, ax = plt.subplots(figsize=(8,3))\n",
    "\n",
    "sns.histplot(output_df['Actual'], color='blue', alpha=0.5, label='actual')\n",
    "sns.histplot(output_df['RF predictions'], color='red', alpha=0.5, label='predictions')\n",
    "\n",
    "plt.legend()"
   ]
  },
  {
   "cell_type": "markdown",
   "id": "29413723",
   "metadata": {},
   "source": [
    "## Comparing all the models"
   ]
  },
  {
   "cell_type": "code",
   "execution_count": 43,
   "id": "42a0f03e",
   "metadata": {},
   "outputs": [
    {
     "name": "stderr",
     "output_type": "stream",
     "text": [
      "C:\\Users\\USER\\AppData\\Local\\Temp\\ipykernel_8476\\2864761091.py:8: UserWarning: FigureCanvasAgg is non-interactive, and thus cannot be shown\n",
      "  plt.show()\n"
     ]
    }
   ],
   "source": [
    "df_melted = pd.melt(output_df, var_name='Model', value_name='Prediction')\n",
    "\n",
    "fig, ax = plt.subplots(figsize=(8,4))\n",
    "sns.boxplot(x='Prediction', y='Model', data=df_melted)\n",
    "\n",
    "plt.title('Comparison of actual vs predicted values')\n",
    "\n",
    "plt.show()"
   ]
  },
  {
   "cell_type": "markdown",
   "id": "774b3eed",
   "metadata": {},
   "source": [
    "Each boxplot displays the distribution of predictions for each model relative to the actual values, showing key statistical features such as medians, interquartile ranges, and outliers. The actual values have a tighter distribution compared to the predictions, indicating that the models exhibit variability in their ability to approximate the actual data.\n",
    "\n",
    "Among the models, Random Forest predictions appear to have the most consistency (narrower spread), while the others show greater variance and potential outliers, suggesting differences in predictive performance. This visualization helps highlight how closely each model aligns with the actual values and where they deviate."
   ]
  },
  {
   "cell_type": "code",
   "execution_count": 44,
   "id": "55ac6af4",
   "metadata": {},
   "outputs": [
    {
     "data": {
      "text/html": [
       "<div>\n",
       "<style scoped>\n",
       "    .dataframe tbody tr th:only-of-type {\n",
       "        vertical-align: middle;\n",
       "    }\n",
       "\n",
       "    .dataframe tbody tr th {\n",
       "        vertical-align: top;\n",
       "    }\n",
       "\n",
       "    .dataframe thead th {\n",
       "        text-align: right;\n",
       "    }\n",
       "</style>\n",
       "<table border=\"1\" class=\"dataframe\">\n",
       "  <thead>\n",
       "    <tr style=\"text-align: right;\">\n",
       "      <th></th>\n",
       "      <th>Algorithm/Model</th>\n",
       "      <th>Mean Absolute Value</th>\n",
       "    </tr>\n",
       "  </thead>\n",
       "  <tbody>\n",
       "    <tr>\n",
       "      <th>0</th>\n",
       "      <td>Linear regression</td>\n",
       "      <td>828.372551</td>\n",
       "    </tr>\n",
       "    <tr>\n",
       "      <th>1</th>\n",
       "      <td>KNN</td>\n",
       "      <td>385.015706</td>\n",
       "    </tr>\n",
       "    <tr>\n",
       "      <th>2</th>\n",
       "      <td>Decision Tree</td>\n",
       "      <td>354.459956</td>\n",
       "    </tr>\n",
       "    <tr>\n",
       "      <th>3</th>\n",
       "      <td>Random Forest</td>\n",
       "      <td>270.641142</td>\n",
       "    </tr>\n",
       "  </tbody>\n",
       "</table>\n",
       "</div>"
      ],
      "text/plain": [
       "     Algorithm/Model  Mean Absolute Value\n",
       "0  Linear regression           828.372551\n",
       "1                KNN           385.015706\n",
       "2      Decision Tree           354.459956\n",
       "3      Random Forest           270.641142"
      ]
     },
     "execution_count": 44,
     "metadata": {},
     "output_type": "execute_result"
    }
   ],
   "source": [
    "#comparing the MAE values\n",
    "# Comparing the MAE values\n",
    "mae_data = {\n",
    "    'Algorithm/Model': ['Linear regression', 'KNN', 'Decision Tree', 'Random Forest'],\n",
    "    'Mean Absolute Value': [LR_MAE, KNN_MAE, DT_MAE, RF_MAE]\n",
    "}\n",
    "\n",
    "# Create the DataFrame\n",
    "models = pd.DataFrame(data=mae_data)\n",
    "\n",
    "# Display the DataFrame\n",
    "models"
   ]
  },
  {
   "cell_type": "markdown",
   "id": "a001e316",
   "metadata": {},
   "source": [
    "The Mean Absolute Error (MAE) scores indicate the average magnitude of error between the predicted diamond prices and the actual prices for each model. Linear Regression has the highest MAE (828.37), suggesting it struggles the most to accurately predict prices.\n",
    "\n",
    "In contrast, Random Forest has the lowest MAE (270.68), making it the most accurate and reliable model for this task. KNN (385.02) and Decision Tree (357.92) also perform better than Linear Regression but are less accurate than Random Forest. Based on the MAE scores, Random Forest is the recommended model for predicting diamond prices, as it minimizes prediction errors more effectively than the other models.\n",
    "\n",
    "To move on with the next part of this case study, we would save some relevant files like the scaler, encoder and model to be used to create our Stremlit app."
   ]
  },
  {
   "cell_type": "code",
   "execution_count": 45,
   "id": "d0948388",
   "metadata": {},
   "outputs": [
    {
     "ename": "FileNotFoundError",
     "evalue": "[Errno 2] No such file or directory: 'Streamlit_files/random_forest_model.pkl'",
     "output_type": "error",
     "traceback": [
      "\u001b[31m---------------------------------------------------------------------------\u001b[39m",
      "\u001b[31mFileNotFoundError\u001b[39m                         Traceback (most recent call last)",
      "\u001b[36mCell\u001b[39m\u001b[36m \u001b[39m\u001b[32mIn[45]\u001b[39m\u001b[32m, line 5\u001b[39m\n\u001b[32m      2\u001b[39m \u001b[38;5;28;01mimport\u001b[39;00m\u001b[38;5;250m \u001b[39m\u001b[34;01mjoblib\u001b[39;00m\n\u001b[32m      4\u001b[39m \u001b[38;5;66;03m# Save the trained model\u001b[39;00m\n\u001b[32m----> \u001b[39m\u001b[32m5\u001b[39m \u001b[43mjoblib\u001b[49m\u001b[43m.\u001b[49m\u001b[43mdump\u001b[49m\u001b[43m(\u001b[49m\u001b[43mRF_regressor\u001b[49m\u001b[43m,\u001b[49m\u001b[43m  \u001b[49m\u001b[33;43m'\u001b[39;49m\u001b[33;43mStreamlit_files/random_forest_model.pkl\u001b[39;49m\u001b[33;43m'\u001b[39;49m\u001b[43m)\u001b[49m\n\u001b[32m      7\u001b[39m \u001b[38;5;66;03m# Save the scaler\u001b[39;00m\n\u001b[32m      8\u001b[39m joblib.dump(std_scaler, \u001b[33m'\u001b[39m\u001b[33mStreamlit_files/scaler.pkl\u001b[39m\u001b[33m'\u001b[39m)\n",
      "\u001b[36mFile \u001b[39m\u001b[32mc:\\Users\\USER\\miniconda3\\Lib\\site-packages\\joblib\\numpy_pickle.py:599\u001b[39m, in \u001b[36mdump\u001b[39m\u001b[34m(value, filename, compress, protocol)\u001b[39m\n\u001b[32m    597\u001b[39m         NumpyPickler(f, protocol=protocol).dump(value)\n\u001b[32m    598\u001b[39m \u001b[38;5;28;01melif\u001b[39;00m is_filename:\n\u001b[32m--> \u001b[39m\u001b[32m599\u001b[39m     \u001b[38;5;28;01mwith\u001b[39;00m \u001b[38;5;28;43mopen\u001b[39;49m\u001b[43m(\u001b[49m\u001b[43mfilename\u001b[49m\u001b[43m,\u001b[49m\u001b[43m \u001b[49m\u001b[33;43m\"\u001b[39;49m\u001b[33;43mwb\u001b[39;49m\u001b[33;43m\"\u001b[39;49m\u001b[43m)\u001b[49m \u001b[38;5;28;01mas\u001b[39;00m f:\n\u001b[32m    600\u001b[39m         NumpyPickler(f, protocol=protocol).dump(value)\n\u001b[32m    601\u001b[39m \u001b[38;5;28;01melse\u001b[39;00m:\n",
      "\u001b[31mFileNotFoundError\u001b[39m: [Errno 2] No such file or directory: 'Streamlit_files/random_forest_model.pkl'"
     ]
    }
   ],
   "source": [
    "#importing required library\n",
    "import joblib\n",
    "\n",
    "# Save the trained model\n",
    "joblib.dump(RF_regressor,  'Streamlit_files/random_forest_model.pkl')\n",
    "\n",
    "# Save the scaler\n",
    "joblib.dump(std_scaler, 'Streamlit_files/scaler.pkl')\n",
    "\n",
    "# Save the encoder (if applicable, for categorical features)\n",
    "joblib.dump(ordinal_encoder, 'Streamlit_files/encoder.pkl')\n",
    "\n",
    "print(\"Model, scaler, and encoder saved successfully!\")"
   ]
  },
  {
   "cell_type": "code",
   "execution_count": 46,
   "id": "55931bfa",
   "metadata": {},
   "outputs": [
    {
     "name": "stdout",
     "output_type": "stream",
     "text": [
      "Model saved to: Streamlit\\random_forest_model.pkl\n",
      "Scaler saved to: Streamlit\\scaler.pkl\n",
      "Encoder saved to: Streamlit\\encoder.pkl\n"
     ]
    }
   ],
   "source": [
    "import os\n",
    "import joblib\n",
    "\n",
    "# Define the directory and file paths\n",
    "output_dir = \"Streamlit\"\n",
    "model_path = os.path.join(output_dir, \"random_forest_model.pkl\")\n",
    "scaler_path = os.path.join(output_dir, \"scaler.pkl\")\n",
    "encoder_path = os.path.join(output_dir, \"encoder.pkl\")\n",
    "\n",
    "# Create directory if it doesn't exist\n",
    "os.makedirs(output_dir, exist_ok=True)\n",
    "\n",
    "# Save the model and scaler\n",
    "joblib.dump(RF_regressor, model_path)\n",
    "joblib.dump(std_scaler, scaler_path)\n",
    "joblib.dump(ordinal_encoder, encoder_path)\n",
    "\n",
    "print(f\"Model saved to: {model_path}\")\n",
    "print(f\"Scaler saved to: {scaler_path}\") \n",
    "print(f\"Encoder saved to: {encoder_path}\")"
   ]
  },
  {
   "cell_type": "code",
   "execution_count": null,
   "id": "350f246f",
   "metadata": {},
   "outputs": [],
   "source": []
  }
 ],
 "metadata": {
  "kernelspec": {
   "display_name": "base",
   "language": "python",
   "name": "python3"
  },
  "language_info": {
   "codemirror_mode": {
    "name": "ipython",
    "version": 3
   },
   "file_extension": ".py",
   "mimetype": "text/x-python",
   "name": "python",
   "nbconvert_exporter": "python",
   "pygments_lexer": "ipython3",
   "version": "3.13.2"
  }
 },
 "nbformat": 4,
 "nbformat_minor": 5
}
